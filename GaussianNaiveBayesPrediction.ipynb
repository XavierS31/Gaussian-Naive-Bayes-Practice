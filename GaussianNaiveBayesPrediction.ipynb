{
 "cells": [
  {
   "cell_type": "markdown",
   "id": "893b1a6f-8c4f-4c16-b668-f944b898be32",
   "metadata": {},
   "source": [
    "# Gaussian Naive Bayes (from scratch)\n",
    "\n",
    "### Name :\n",
    "Xavier Soto\n",
    "\n",
    "\n",
    "Goal: implement Gaussian Naive Bayes to classify handwritten digits, evaluate its performance, and analyze results.\n",
    "\n",
    "---\n",
    "\n",
    "## Assumptions of Gaussian Naive Bayes\n",
    "\n",
    "- Features are treated as **independent** given the class label.  \n",
    "- Each feature (per class) is modeled by a Gaussian distribution:\n",
    "  \n",
    "$$\n",
    "x_i \\mid C_k \\sim \\mathcal{N}(\\mu_{ik}, \\sigma^2_{ik})\n",
    "$$\n",
    "\n",
    "---\n",
    "\n",
    "## Decision Rule (MAP)\n",
    "\n",
    "We predict the most probable class:\n",
    "\n",
    "$$\n",
    "\\hat{c} = \\arg\\max_c \\left[\\log P(C=c) + \\sum_i \\log P(x_i \\mid C=c)\\right]\n",
    "$$\n",
    "\n",
    "---\n",
    "\n"
   ]
  },
  {
   "cell_type": "markdown",
   "id": "d8f78a5d-c9f4-4067-842b-845ce7eea939",
   "metadata": {},
   "source": [
    "## Dataset Loading\n",
    "\n",
    "We use MNIST (70,000 images of 28×28 digits). If unavailable, fallback to sklearn's smaller digit dataset.\n"
   ]
  },
  {
   "cell_type": "code",
   "execution_count": 6,
   "id": "706da8d8-931b-4d51-ae1c-b6ec15225edb",
   "metadata": {},
   "outputs": [
    {
     "name": "stdout",
     "output_type": "stream",
     "text": [
      "Data shape: (70000, 784) (70000,)\n"
     ]
    }
   ],
   "source": [
    "# Imports\n",
    "import numpy as np\n",
    "import matplotlib.pyplot as plt\n",
    "from sklearn.datasets import fetch_openml, load_digits\n",
    "from sklearn.model_selection import train_test_split\n",
    "from sklearn.metrics import accuracy_score, confusion_matrix, classification_report\n",
    "\n",
    "# Load MNIST (normalize to [0,1]); fallback to sklearn digits\n",
    "try:\n",
    "    mnist = fetch_openml('mnist_784', version=1, as_frame=False)\n",
    "    X, y = mnist.data / 255.0, mnist.target.astype(int)\n",
    "except Exception:\n",
    "    digits = load_digits()\n",
    "    X, y = digits.data / 16.0, digits.target\n",
    "\n",
    "#Print\n",
    "print(\"Data shape:\", X.shape, y.shape)\n",
    "\n"
   ]
  },
  {
   "cell_type": "markdown",
   "id": "fcc64271-db57-4bb0-9a84-3cc5326553c0",
   "metadata": {},
   "source": [
    "## Visualization\n",
    "\n",
    "Let’s preview a few images with their labels.\n"
   ]
  },
  {
   "cell_type": "code",
   "execution_count": 8,
   "id": "b249632e-7429-4f21-b36d-0505505c3cdc",
   "metadata": {},
   "outputs": [
    {
     "data": {
      "image/png": "[encoded data removed]",
      "text/plain": [
       "<Figure size 1000x200 with 5 Axes>"
      ]
     },
     "metadata": {},
     "output_type": "display_data"
    }
   ],
   "source": [
    "fig, axes = plt.subplots(1, 5, figsize=(10, 2))\n",
    "for i, ax in enumerate(axes):\n",
    "    size = int(np.sqrt(X.shape[1]))\n",
    "    ax.imshow(X[i].reshape(size, size), cmap=\"gray\")\n",
    "    ax.set_title(f\"Label: {y[i]}\")\n",
    "    ax.axis(\"off\")\n",
    "\n",
    "#Visualize the images\n",
    "plt.show()\n"
   ]
  },
  {
   "cell_type": "markdown",
   "id": "c1954d25-4604-4e55-814b-7ce5e934bb2a",
   "metadata": {},
   "source": [
    "## Training Step\n",
    "\n",
    "We must estimate:\n",
    "- Class prior $$P(C_k) = N_k/N $$\n",
    "- Mean $$\\mu_{ik} \\;=\\; \\frac{1}{N_k} \\sum_{j:\\, y_j = C_k} x_{ij}$$\n",
    "  Where ($x_{ij}$): value of feature $(i$) for sample $(j$) in class $(C_k$)\n",
    "  \n",
    "- variance $$\n",
    "\\sigma^2_{ik} \\;=\\; \\frac{1}{N_k} \\sum_{j:\\, y_j = C_k} \\big(x_{ij} - \\mu_{ik}\\big)^2\n",
    "$$  for each feature given class.\n",
    "\n",
    "These define the Gaussian likelihoods as the following:\n",
    "\n",
    "\n",
    "**Gaussian Likelihood (per feature given a class):**\n",
    "$$\n",
    "P(x_i \\mid C_k) \\;=\\; \\frac{1}{\\sqrt{2 \\pi \\sigma^2_{ik}}} \n",
    "\\exp\\!\\left(-\\frac{(x_i - \\mu_{ik})^2}{2\\sigma^2_{ik}}\\right)\n",
    "$$  \n"
   ]
  },
  {
   "cell_type": "code",
   "execution_count": 16,
   "id": "d5a94be9-6dac-4ce4-b9bd-033369d80ac1",
   "metadata": {},
   "outputs": [
    {
     "name": "stdout",
     "output_type": "stream",
     "text": [
      "Dataset splitted\n",
      "Train: (56000, 784)\n",
      "Test: (14000, 784)\n"
     ]
    }
   ],
   "source": [
    "# Split dataset\n",
    "\n",
    "\n",
    "X_train, X_test, y_train, y_test = train_test_split(\n",
    "    X, y, test_size=0.2, stratify=y, random_state=42\n",
    ")\n",
    "\n",
    "\n",
    "#Print the split dataset\n",
    "print(\"Dataset splitted\")\n",
    "print(\"Train:\", X_train.shape)\n",
    "print(\"Test:\", X_test.shape)\n"
   ]
  },
  {
   "cell_type": "markdown",
   "id": "d78a0bb1-1230-4044-bde8-7d55bbedd742",
   "metadata": {},
   "source": [
    "# Implementation: Gaussian Naive Bayes\n"
   ]
  },
  {
   "cell_type": "markdown",
   "id": "0ba5aac0-28fa-4121-9966-ff1eaa193462",
   "metadata": {},
   "source": [
    "## Prediction with Gaussian Naive Bayes\n",
    "\n",
    "---\n",
    "\n",
    "### Prediction Rule\n",
    "\n",
    "For a given sample $x = (x_1, x_2, \\dots, x_d)$, we compute the **log posterior** for each class $C_k$:\n",
    "\n",
    "$$\n",
    "\\text{score}(C_k \\mid x) \n",
    "= \\log P(C_k) \n",
    "- \\frac{1}{2}\\sum_{i=1}^d \\Bigg[ \\log\\big(2\\pi \\sigma^2_{ik}\\big) \n",
    "+ \\frac{(x_i - \\mu_{ik})^2}{\\sigma^2_{ik}} \\Bigg]\n",
    "$$\n",
    "\n",
    "The predicted class is the one with the maximum score:\n",
    "\n",
    "$$\n",
    "\\hat{c} = \\arg\\max_k \\; \\text{score}(C_k \\mid x)\n",
    "$$\n",
    "\n",
    "---\n",
    "\n",
    "**Notes:**\n",
    "- The summation runs over all features $i$.  \n",
    "- We use logarithms to stabilize the computation.  \n",
    "- $\\hat{c}$ is the final class label returned by the classifier.\n",
    "\n",
    "\n"
   ]
  },
  {
   "cell_type": "code",
   "execution_count": 17,
   "id": "01e61067-2747-4672-9027-8c3595dab0d3",
   "metadata": {},
   "outputs": [],
   "source": [
    "#Gaussian Naives Bayes\n",
    "class GaussianNBStudent:\n",
    "    def __init__(self, var_smoothing=1e-9):\n",
    "        self.var_smoothing = var_smoothing\n",
    "\n",
    "    def fit(self, X, y):\n",
    "        #Estimate priors, means, and variances per class.\n",
    "        self.classes = np.unique(y)\n",
    "        self.priors = {}\n",
    "        self.means = {}\n",
    "        self.vars = {}\n",
    "        for c in self.classes:\n",
    "            X_c = X[y == c]\n",
    "            self.priors[c] = X_c.shape[0] / X.shape[0]\n",
    "            self.means[c] = X_c.mean(axis=0)\n",
    "            self.vars[c] = X_c.var(axis=0) + self.var_smoothing\n",
    "\n",
    "    def _log_posterior(self, x):\n",
    "        #Return unnormalized log posterior for each class.\n",
    "        scores = {}\n",
    "        for c in self.classes:\n",
    "            μ = self.means[c]\n",
    "            σ2 = self.vars[c]\n",
    "            prior = np.log(self.priors[c])\n",
    "            likelihood = -0.5 * np.sum(np.log(2*np.pi*σ2))\n",
    "            likelihood -= 0.5 * np.sum(((x - μ)**2) / σ2)\n",
    "            scores[c] = prior + likelihood\n",
    "        return scores\n",
    "\n",
    "    #Prediction\n",
    "    def predict(self, X):\n",
    "        preds = []\n",
    "        for x in X:\n",
    "            scores = [self._log_posterior(x)[c] for c in self.classes]\n",
    "            c_hat = self.classes[np.argmax(scores)]  # argmax over classes\n",
    "            preds.append(c_hat)\n",
    "        return np.array(preds)\n"
   ]
  },
  {
   "cell_type": "markdown",
   "id": "67deeb53-66ef-4ff2-bf41-393f4820a154",
   "metadata": {},
   "source": [
    "## Metrics\n",
    "\n",
    "We evaluate using:\n",
    "- Accuracy\n",
    "- Precision\n",
    "- Recall\n",
    "- F1-score\n",
    "- Confusion matrix\n",
    "\n",
    "---\n",
    "\n",
    "### Formulas:\n",
    "\n",
    "- **Accuracy**\n",
    "$$\n",
    "\\text{Accuracy} = \\frac{TP+TN}{TP+TN+FP+FN}\n",
    "$$\n",
    "\n",
    "\n",
    "- **Precision**\n",
    "$$\n",
    "\\text{Precision} = \\frac{TP}{TP+FP}, \n",
    "$$\n",
    "\n",
    "- **Recall**\n",
    "\n",
    "$$\n",
    "\\quad \\text{Recall} = \\frac{TP}{TP+FN}\n",
    "$$\n",
    "\n",
    "- **F1 Score**\n",
    "$$\n",
    "F1 = \\frac{2 \\cdot P \\cdot R}{P+R}\n",
    "$$\n"
   ]
  },
  {
   "cell_type": "code",
   "execution_count": 18,
   "id": "1405f45b-ebb6-41f2-b16b-ece426ed8779",
   "metadata": {},
   "outputs": [
    {
     "name": "stdout",
     "output_type": "stream",
     "text": [
      "Accuracy: 0.5649285714285714\n",
      "[[1179    4    4    3    4    6   46    0  110   25]\n",
      " [   0 1487    5    3    0    5   22    2   34   17]\n",
      " [  97   31  462  101   10    7  337    3  333   17]\n",
      " [  39   76   11  514    3    9   60    8  579  129]\n",
      " [  21   15   19   12  230    6   92    8  315  647]\n",
      " [  94   46   10   26    5   67   59    4  831  121]\n",
      " [  13   35    9    1    1    3 1272    0   38    3]\n",
      " [   4   14    1   11   10    2    5  477   50  885]\n",
      " [  20  188    8    6    4    8   13    2  923  193]\n",
      " [   6   16    2    3    9    0    2   25   30 1298]]\n",
      "              precision    recall  f1-score   support\n",
      "\n",
      "           0       0.80      0.85      0.83      1381\n",
      "           1       0.78      0.94      0.85      1575\n",
      "           2       0.87      0.33      0.48      1398\n",
      "           3       0.76      0.36      0.49      1428\n",
      "           4       0.83      0.17      0.28      1365\n",
      "           5       0.59      0.05      0.10      1263\n",
      "           6       0.67      0.93      0.77      1375\n",
      "           7       0.90      0.33      0.48      1459\n",
      "           8       0.28      0.68      0.40      1365\n",
      "           9       0.39      0.93      0.55      1391\n",
      "\n",
      "    accuracy                           0.56     14000\n",
      "   macro avg       0.69      0.56      0.52     14000\n",
      "weighted avg       0.69      0.56      0.53     14000\n",
      "\n"
     ]
    }
   ],
   "source": [
    "# Train and predict\n",
    "model = GaussianNBStudent()\n",
    "model.fit(X_train, y_train)\n",
    "y_pred = model.predict(X_test)\n",
    "\n",
    "# Evaluate\n",
    "print(\"Accuracy:\", accuracy_score(y_test, y_pred))\n",
    "print(confusion_matrix(y_test, y_pred))\n",
    "print(classification_report(y_test, y_pred))\n"
   ]
  },
  {
   "cell_type": "markdown",
   "id": "a4bae6bc-e196-4455-bef9-052ef0384177",
   "metadata": {},
   "source": [
    "## Results\n",
    "\n",
    "**Overall Accuracy:**  \n",
    "- Accuracy: **0.565 (~56%)**\n",
    "\n",
    "---\n",
    "\n",
    "**Class Performance (from confusion matrix):**  \n",
    "- Strong recall: digits **0, 1, 6, 9** (well recognized by the model).  \n",
    "- Weak recall: digits **2, 3, 4, 5, 7** (frequently misclassified).  \n",
    "- Mixed case: digit **8** shows high recall but low precision, meaning it is predicted too often.\n",
    "\n",
    "---\n",
    "\n",
    "**Evaluation Metrics:**  \n",
    "- Macro average precision: 0.69  \n",
    "- Macro average recall: 0.56  \n",
    "- Macro average F1-score: 0.52  \n",
    "- Confirms that the classifier handles some classes well while struggling with others.\n",
    "\n",
    "---\n",
    "\n",
    "## Conclusion\n",
    "\n",
    "The Gaussian Naive Bayes classifier was implemented and tested on handwritten digits.  \n",
    "- It correctly identifies some digits with high confidence, while others overlap heavily and are confused.  \n",
    "- The confusion matrix shows clear patterns of misclassification across several classes.  \n",
    "- Overall, Naive Bayes demonstrates its usefulness as a **baseline model**: simple, efficient, and above random guessing, but too limited to capture the complex distributions in digit data.\n"
   ]
  },
  {
   "cell_type": "code",
   "execution_count": null,
   "id": "266791f7-d92e-4670-b66d-22f3c7d92424",
   "metadata": {},
   "outputs": [],
   "source": []
  }
 ],
 "metadata": {
  "kernelspec": {
   "display_name": "Python 3 (ipykernel)",
   "language": "python",
   "name": "python3"
  },
  "language_info": {
   "codemirror_mode": {
    "name": "ipython",
    "version": 3
   },
   "file_extension": ".py",
   "mimetype": "text/x-python",
   "name": "python",
   "nbconvert_exporter": "python",
   "pygments_lexer": "ipython3",
   "version": "3.13.7"
  }
 },
 "nbformat": 4,
 "nbformat_minor": 5
}
